{
 "cells": [
  {
   "cell_type": "code",
   "execution_count": 11,
   "metadata": {},
   "outputs": [],
   "source": [
    "import csv\n",
    "import re\n",
    "\n",
    "class Laptop:\n",
    "    def __init__(self, brand, model, screen_size, weight, _os, ram, price):\n",
    "        self.brand = brand\n",
    "        self.model = model\n",
    "        self.screen_size = screen_size\n",
    "        self.weight = weight\n",
    "        self.os = _os\n",
    "        self.ram = ram\n",
    "        self.price = float(price.replace(',', '.'))\n",
    "        \n",
    "        \n",
    "    def __eq__(self, other):\n",
    "        return self.brand == other.brand and self.model == other.model and self.weight == other.weight and self.price == other.price        \n",
    "        \n",
    "        \n",
    "    def __hash__(self):\n",
    "        return hash((self.brand, self.model, self.weight, self.price))\n",
    "        \n",
    "        \n",
    "    @property\n",
    "    def weight_kg(self):\n",
    "        return float(re.search('\\d+(.\\d+)?', self.weight)[0])\n",
    "    \n",
    "    \n",
    "    @property\n",
    "    def ram_gb(self):\n",
    "        return float(re.search('\\d+', self.ram)[0])\n",
    "    \n",
    "    \n",
    "    @property\n",
    "    def screen_size_inches(self):\n",
    "        return float(re.search('\\d+(.\\d+)?', self.screen_size)[0])\n",
    "    \n",
    "    \n",
    "    def __repr__(self):\n",
    "        return f'{self.brand} {self.model} {self.screen_size}'\n",
    "    \n"
   ]
  },
  {
   "cell_type": "code",
   "execution_count": 28,
   "metadata": {},
   "outputs": [],
   "source": [
    "def laptops(limit=-1):\n",
    "    with open('Users\\37441\\Desktop\\jupy_files\\laptops.csv') as f:\n",
    "        reader = csv.DictReader(f)\n",
    "        count = 0\n",
    "        for item in reader:\n",
    "            if limit != -1 and count >= limit:\n",
    "                break\n",
    "                \n",
    "            count += 1\n",
    "            yield Laptop(\n",
    "                brand=item['Manufacturer'],\n",
    "                model=item['Model Name'],\n",
    "                screen_size=item['Screen Size'],\n",
    "                weight=item['Weight'],\n",
    "                ram=item['RAM'],\n",
    "                _os=item['Operating System'],\n",
    "                price=item['Price (Euros)'],\n",
    "            )"
   ]
  },
  {
   "cell_type": "code",
   "execution_count": 29,
   "metadata": {},
   "outputs": [],
   "source": [
    "def most_expensive():\n",
    "    _most_expensive = None\n",
    "    \n",
    "    for laptop in laptops():\n",
    "        if _most_expensive is None:\n",
    "            _most_expensive = laptop\n",
    "        else:\n",
    "            if laptop.price > _most_expensive.price:\n",
    "                _most_expensive = laptop\n",
    "                \n",
    "    return _most_expensive"
   ]
  },
  {
   "cell_type": "code",
   "execution_count": 30,
   "metadata": {},
   "outputs": [
    {
     "ename": "FileNotFoundError",
     "evalue": "[Errno 2] No such file or directory: 'Usersü41\\\\Desktop\\\\jupy_files\\\\laptops.csv'",
     "output_type": "error",
     "traceback": [
      "\u001b[1;31m---------------------------------------------------------------------------\u001b[0m",
      "\u001b[1;31mFileNotFoundError\u001b[0m                         Traceback (most recent call last)",
      "\u001b[1;32m<ipython-input-30-babea3622d32>\u001b[0m in \u001b[0;36m<module>\u001b[1;34m\u001b[0m\n\u001b[1;32m----> 1\u001b[1;33m \u001b[0mmost_expensive\u001b[0m\u001b[1;33m(\u001b[0m\u001b[1;33m)\u001b[0m\u001b[1;33m.\u001b[0m\u001b[0mprice\u001b[0m\u001b[1;33m\u001b[0m\u001b[1;33m\u001b[0m\u001b[0m\n\u001b[0m",
      "\u001b[1;32m<ipython-input-29-ac997c43c5ca>\u001b[0m in \u001b[0;36mmost_expensive\u001b[1;34m()\u001b[0m\n\u001b[0;32m      2\u001b[0m     \u001b[0m_most_expensive\u001b[0m \u001b[1;33m=\u001b[0m \u001b[1;32mNone\u001b[0m\u001b[1;33m\u001b[0m\u001b[1;33m\u001b[0m\u001b[0m\n\u001b[0;32m      3\u001b[0m \u001b[1;33m\u001b[0m\u001b[0m\n\u001b[1;32m----> 4\u001b[1;33m     \u001b[1;32mfor\u001b[0m \u001b[0mlaptop\u001b[0m \u001b[1;32min\u001b[0m \u001b[0mlaptops\u001b[0m\u001b[1;33m(\u001b[0m\u001b[1;33m)\u001b[0m\u001b[1;33m:\u001b[0m\u001b[1;33m\u001b[0m\u001b[1;33m\u001b[0m\u001b[0m\n\u001b[0m\u001b[0;32m      5\u001b[0m         \u001b[1;32mif\u001b[0m \u001b[0m_most_expensive\u001b[0m \u001b[1;32mis\u001b[0m \u001b[1;32mNone\u001b[0m\u001b[1;33m:\u001b[0m\u001b[1;33m\u001b[0m\u001b[1;33m\u001b[0m\u001b[0m\n\u001b[0;32m      6\u001b[0m             \u001b[0m_most_expensive\u001b[0m \u001b[1;33m=\u001b[0m \u001b[0mlaptop\u001b[0m\u001b[1;33m\u001b[0m\u001b[1;33m\u001b[0m\u001b[0m\n",
      "\u001b[1;32m<ipython-input-28-524eba78c8ff>\u001b[0m in \u001b[0;36mlaptops\u001b[1;34m(limit)\u001b[0m\n\u001b[0;32m      1\u001b[0m \u001b[1;32mdef\u001b[0m \u001b[0mlaptops\u001b[0m\u001b[1;33m(\u001b[0m\u001b[0mlimit\u001b[0m\u001b[1;33m=\u001b[0m\u001b[1;33m-\u001b[0m\u001b[1;36m1\u001b[0m\u001b[1;33m)\u001b[0m\u001b[1;33m:\u001b[0m\u001b[1;33m\u001b[0m\u001b[1;33m\u001b[0m\u001b[0m\n\u001b[1;32m----> 2\u001b[1;33m     \u001b[1;32mwith\u001b[0m \u001b[0mopen\u001b[0m\u001b[1;33m(\u001b[0m\u001b[1;34m'Users\\37441\\Desktop\\jupy_files\\laptops.csv'\u001b[0m\u001b[1;33m)\u001b[0m \u001b[1;32mas\u001b[0m \u001b[0mf\u001b[0m\u001b[1;33m:\u001b[0m\u001b[1;33m\u001b[0m\u001b[1;33m\u001b[0m\u001b[0m\n\u001b[0m\u001b[0;32m      3\u001b[0m         \u001b[0mreader\u001b[0m \u001b[1;33m=\u001b[0m \u001b[0mcsv\u001b[0m\u001b[1;33m.\u001b[0m\u001b[0mDictReader\u001b[0m\u001b[1;33m(\u001b[0m\u001b[0mf\u001b[0m\u001b[1;33m)\u001b[0m\u001b[1;33m\u001b[0m\u001b[1;33m\u001b[0m\u001b[0m\n\u001b[0;32m      4\u001b[0m         \u001b[0mcount\u001b[0m \u001b[1;33m=\u001b[0m \u001b[1;36m0\u001b[0m\u001b[1;33m\u001b[0m\u001b[1;33m\u001b[0m\u001b[0m\n\u001b[0;32m      5\u001b[0m         \u001b[1;32mfor\u001b[0m \u001b[0mitem\u001b[0m \u001b[1;32min\u001b[0m \u001b[0mreader\u001b[0m\u001b[1;33m:\u001b[0m\u001b[1;33m\u001b[0m\u001b[1;33m\u001b[0m\u001b[0m\n",
      "\u001b[1;31mFileNotFoundError\u001b[0m: [Errno 2] No such file or directory: 'Usersü41\\\\Desktop\\\\jupy_files\\\\laptops.csv'"
     ]
    }
   ],
   "source": [
    "most_expensive().price"
   ]
  },
  {
   "cell_type": "code",
   "execution_count": null,
   "metadata": {},
   "outputs": [],
   "source": []
  }
 ],
 "metadata": {
  "kernelspec": {
   "display_name": "Python 3",
   "language": "python",
   "name": "python3"
  },
  "language_info": {
   "codemirror_mode": {
    "name": "ipython",
    "version": 3
   },
   "file_extension": ".py",
   "mimetype": "text/x-python",
   "name": "python",
   "nbconvert_exporter": "python",
   "pygments_lexer": "ipython3",
   "version": "3.9.0"
  }
 },
 "nbformat": 4,
 "nbformat_minor": 4
}
